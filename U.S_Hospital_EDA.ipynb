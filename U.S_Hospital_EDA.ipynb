{
 "cells": [
  {
   "cell_type": "markdown",
   "id": "bb38a36f",
   "metadata": {},
   "source": [
    "# This Python Program Conducts EDA for U.S Hospital Dataset"
   ]
  },
  {
   "cell_type": "code",
   "execution_count": 2,
   "id": "e3f6fd6b",
   "metadata": {},
   "outputs": [
    {
     "name": "stdout",
     "output_type": "stream",
     "text": [
      "/Users/haoshu/Python_Training/US_Hospital_EDA\n"
     ]
    }
   ],
   "source": [
    "## Import packages \n",
    "import pandas as pd \n",
    "import numpy as np\n",
    "import matplotlib.pyplot as plt\n",
    "import seaborn as sns\n",
    "import os\n",
    "\n",
    "os.getcwd()\n",
    "\n",
    "## Reset working dir\n",
    "os.chdir('/Users/haoshu/Python_Training/US_Hospital_EDA')\n",
    "\n",
    "os.getcwd()\n",
    "\n",
    "dirname = os.getcwd()\n",
    "\n",
    "print(dirname)\n"
   ]
  },
  {
   "cell_type": "markdown",
   "id": "cbc6b197",
   "metadata": {},
   "source": [
    "Import US hospital dataset (2016-2020)"
   ]
  },
  {
   "cell_type": "code",
   "execution_count": 3,
   "id": "3c5af529",
   "metadata": {},
   "outputs": [
    {
     "data": {
      "text/html": [
       "<div>\n",
       "<style scoped>\n",
       "    .dataframe tbody tr th:only-of-type {\n",
       "        vertical-align: middle;\n",
       "    }\n",
       "\n",
       "    .dataframe tbody tr th {\n",
       "        vertical-align: top;\n",
       "    }\n",
       "\n",
       "    .dataframe thead th {\n",
       "        text-align: right;\n",
       "    }\n",
       "</style>\n",
       "<table border=\"1\" class=\"dataframe\">\n",
       "  <thead>\n",
       "    <tr style=\"text-align: right;\">\n",
       "      <th></th>\n",
       "      <th>Facility ID</th>\n",
       "      <th>Facility Name</th>\n",
       "      <th>Address</th>\n",
       "      <th>City</th>\n",
       "      <th>State</th>\n",
       "      <th>ZIP Code</th>\n",
       "      <th>County Name</th>\n",
       "      <th>Phone Number</th>\n",
       "      <th>Hospital Type</th>\n",
       "      <th>Hospital Ownership</th>\n",
       "      <th>...</th>\n",
       "      <th>Readmission national comparison footnote</th>\n",
       "      <th>Patient experience national comparison</th>\n",
       "      <th>Patient experience national comparison footnote</th>\n",
       "      <th>Effectiveness of care national comparison</th>\n",
       "      <th>Effectiveness of care national comparison footnote</th>\n",
       "      <th>Timeliness of care national comparison</th>\n",
       "      <th>Timeliness of care national comparison footnote</th>\n",
       "      <th>Efficient use of medical imaging national comparison</th>\n",
       "      <th>Efficient use of medical imaging national comparison footnote</th>\n",
       "      <th>Year</th>\n",
       "    </tr>\n",
       "  </thead>\n",
       "  <tbody>\n",
       "    <tr>\n",
       "      <th>0</th>\n",
       "      <td>010001</td>\n",
       "      <td>SOUTHEAST ALABAMA MEDICAL CENTER</td>\n",
       "      <td>1108 ROSS CLARK CIRCLE</td>\n",
       "      <td>DOTHAN</td>\n",
       "      <td>AL</td>\n",
       "      <td>36301</td>\n",
       "      <td>HOUSTON</td>\n",
       "      <td>(334) 793-8701</td>\n",
       "      <td>Acute Care Hospitals</td>\n",
       "      <td>Government - Hospital District or Authority</td>\n",
       "      <td>...</td>\n",
       "      <td>NaN</td>\n",
       "      <td>Below the national average</td>\n",
       "      <td>NaN</td>\n",
       "      <td>Same as the national average</td>\n",
       "      <td>NaN</td>\n",
       "      <td>Same as the national average</td>\n",
       "      <td>NaN</td>\n",
       "      <td>Same as the national average</td>\n",
       "      <td>NaN</td>\n",
       "      <td>2020</td>\n",
       "    </tr>\n",
       "    <tr>\n",
       "      <th>1</th>\n",
       "      <td>010005</td>\n",
       "      <td>MARSHALL MEDICAL CENTERS</td>\n",
       "      <td>2505 U S HIGHWAY 431 NORTH</td>\n",
       "      <td>BOAZ</td>\n",
       "      <td>AL</td>\n",
       "      <td>35957</td>\n",
       "      <td>MARSHALL</td>\n",
       "      <td>(256) 593-8310</td>\n",
       "      <td>Acute Care Hospitals</td>\n",
       "      <td>Government - Hospital District or Authority</td>\n",
       "      <td>...</td>\n",
       "      <td>NaN</td>\n",
       "      <td>Same as the national average</td>\n",
       "      <td>NaN</td>\n",
       "      <td>Same as the national average</td>\n",
       "      <td>NaN</td>\n",
       "      <td>Above the national average</td>\n",
       "      <td>NaN</td>\n",
       "      <td>Below the national average</td>\n",
       "      <td>NaN</td>\n",
       "      <td>2020</td>\n",
       "    </tr>\n",
       "    <tr>\n",
       "      <th>2</th>\n",
       "      <td>010006</td>\n",
       "      <td>NORTH ALABAMA MEDICAL CENTER</td>\n",
       "      <td>1701 VETERANS DRIVE</td>\n",
       "      <td>FLORENCE</td>\n",
       "      <td>AL</td>\n",
       "      <td>35630</td>\n",
       "      <td>LAUDERDALE</td>\n",
       "      <td>(256) 768-8400</td>\n",
       "      <td>Acute Care Hospitals</td>\n",
       "      <td>Proprietary</td>\n",
       "      <td>...</td>\n",
       "      <td>NaN</td>\n",
       "      <td>Below the national average</td>\n",
       "      <td>NaN</td>\n",
       "      <td>Same as the national average</td>\n",
       "      <td>NaN</td>\n",
       "      <td>Above the national average</td>\n",
       "      <td>NaN</td>\n",
       "      <td>Below the national average</td>\n",
       "      <td>NaN</td>\n",
       "      <td>2020</td>\n",
       "    </tr>\n",
       "    <tr>\n",
       "      <th>3</th>\n",
       "      <td>010007</td>\n",
       "      <td>MIZELL MEMORIAL HOSPITAL</td>\n",
       "      <td>702 N MAIN ST</td>\n",
       "      <td>OPP</td>\n",
       "      <td>AL</td>\n",
       "      <td>36467</td>\n",
       "      <td>COVINGTON</td>\n",
       "      <td>(334) 493-3541</td>\n",
       "      <td>Acute Care Hospitals</td>\n",
       "      <td>Voluntary non-profit - Private</td>\n",
       "      <td>...</td>\n",
       "      <td>NaN</td>\n",
       "      <td>Same as the national average</td>\n",
       "      <td>NaN</td>\n",
       "      <td>Below the national average</td>\n",
       "      <td>NaN</td>\n",
       "      <td>Above the national average</td>\n",
       "      <td>NaN</td>\n",
       "      <td>Same as the national average</td>\n",
       "      <td>NaN</td>\n",
       "      <td>2020</td>\n",
       "    </tr>\n",
       "    <tr>\n",
       "      <th>4</th>\n",
       "      <td>010008</td>\n",
       "      <td>CRENSHAW COMMUNITY HOSPITAL</td>\n",
       "      <td>101 HOSPITAL CIRCLE</td>\n",
       "      <td>LUVERNE</td>\n",
       "      <td>AL</td>\n",
       "      <td>36049</td>\n",
       "      <td>CRENSHAW</td>\n",
       "      <td>(334) 335-3374</td>\n",
       "      <td>Acute Care Hospitals</td>\n",
       "      <td>Proprietary</td>\n",
       "      <td>...</td>\n",
       "      <td>NaN</td>\n",
       "      <td>Not Available</td>\n",
       "      <td>16</td>\n",
       "      <td>Same as the national average</td>\n",
       "      <td>NaN</td>\n",
       "      <td>Above the national average</td>\n",
       "      <td>NaN</td>\n",
       "      <td>Not Available</td>\n",
       "      <td>5</td>\n",
       "      <td>2020</td>\n",
       "    </tr>\n",
       "  </tbody>\n",
       "</table>\n",
       "<p>5 rows × 29 columns</p>\n",
       "</div>"
      ],
      "text/plain": [
       "  Facility ID                     Facility Name                     Address  \\\n",
       "0      010001  SOUTHEAST ALABAMA MEDICAL CENTER      1108 ROSS CLARK CIRCLE   \n",
       "1      010005          MARSHALL MEDICAL CENTERS  2505 U S HIGHWAY 431 NORTH   \n",
       "2      010006      NORTH ALABAMA MEDICAL CENTER         1701 VETERANS DRIVE   \n",
       "3      010007          MIZELL MEMORIAL HOSPITAL               702 N MAIN ST   \n",
       "4      010008       CRENSHAW COMMUNITY HOSPITAL         101 HOSPITAL CIRCLE   \n",
       "\n",
       "       City State  ZIP Code County Name    Phone Number         Hospital Type  \\\n",
       "0    DOTHAN    AL     36301     HOUSTON  (334) 793-8701  Acute Care Hospitals   \n",
       "1      BOAZ    AL     35957    MARSHALL  (256) 593-8310  Acute Care Hospitals   \n",
       "2  FLORENCE    AL     35630  LAUDERDALE  (256) 768-8400  Acute Care Hospitals   \n",
       "3       OPP    AL     36467   COVINGTON  (334) 493-3541  Acute Care Hospitals   \n",
       "4   LUVERNE    AL     36049    CRENSHAW  (334) 335-3374  Acute Care Hospitals   \n",
       "\n",
       "                            Hospital Ownership  ...  \\\n",
       "0  Government - Hospital District or Authority  ...   \n",
       "1  Government - Hospital District or Authority  ...   \n",
       "2                                  Proprietary  ...   \n",
       "3               Voluntary non-profit - Private  ...   \n",
       "4                                  Proprietary  ...   \n",
       "\n",
       "  Readmission national comparison footnote  \\\n",
       "0                                      NaN   \n",
       "1                                      NaN   \n",
       "2                                      NaN   \n",
       "3                                      NaN   \n",
       "4                                      NaN   \n",
       "\n",
       "  Patient experience national comparison  \\\n",
       "0             Below the national average   \n",
       "1           Same as the national average   \n",
       "2             Below the national average   \n",
       "3           Same as the national average   \n",
       "4                          Not Available   \n",
       "\n",
       "  Patient experience national comparison footnote  \\\n",
       "0                                             NaN   \n",
       "1                                             NaN   \n",
       "2                                             NaN   \n",
       "3                                             NaN   \n",
       "4                                              16   \n",
       "\n",
       "  Effectiveness of care national comparison  \\\n",
       "0              Same as the national average   \n",
       "1              Same as the national average   \n",
       "2              Same as the national average   \n",
       "3                Below the national average   \n",
       "4              Same as the national average   \n",
       "\n",
       "  Effectiveness of care national comparison footnote  \\\n",
       "0                                                NaN   \n",
       "1                                                NaN   \n",
       "2                                                NaN   \n",
       "3                                                NaN   \n",
       "4                                                NaN   \n",
       "\n",
       "  Timeliness of care national comparison  \\\n",
       "0           Same as the national average   \n",
       "1             Above the national average   \n",
       "2             Above the national average   \n",
       "3             Above the national average   \n",
       "4             Above the national average   \n",
       "\n",
       "  Timeliness of care national comparison footnote  \\\n",
       "0                                             NaN   \n",
       "1                                             NaN   \n",
       "2                                             NaN   \n",
       "3                                             NaN   \n",
       "4                                             NaN   \n",
       "\n",
       "  Efficient use of medical imaging national comparison  \\\n",
       "0                       Same as the national average     \n",
       "1                         Below the national average     \n",
       "2                         Below the national average     \n",
       "3                       Same as the national average     \n",
       "4                                      Not Available     \n",
       "\n",
       "  Efficient use of medical imaging national comparison footnote  Year  \n",
       "0                                                NaN             2020  \n",
       "1                                                NaN             2020  \n",
       "2                                                NaN             2020  \n",
       "3                                                NaN             2020  \n",
       "4                                                  5             2020  \n",
       "\n",
       "[5 rows x 29 columns]"
      ]
     },
     "execution_count": 3,
     "metadata": {},
     "output_type": "execute_result"
    }
   ],
   "source": [
    "## Import dataset \n",
    "data = pd.read_excel(os.path.join(dirname, \"Hospital_General_Information_2016_2020.xlsx\"),\n",
    "                     sheet_name=\"Data\",engine=\"openpyxl\")\n",
    "\n",
    "data.head()\n",
    "\n"
   ]
  },
  {
   "cell_type": "code",
   "execution_count": 20,
   "id": "a2e9ecec",
   "metadata": {},
   "outputs": [
    {
     "name": "stdout",
     "output_type": "stream",
     "text": [
      "<class 'pandas.core.frame.DataFrame'>\n",
      "RangeIndex: 25082 entries, 0 to 25081\n",
      "Data columns (total 29 columns):\n",
      " #   Column                                                         Non-Null Count  Dtype \n",
      "---  ------                                                         --------------  ----- \n",
      " 0   Facility ID                                                    25082 non-null  object\n",
      " 1   Facility Name                                                  25082 non-null  object\n",
      " 2   Address                                                        25082 non-null  object\n",
      " 3   City                                                           25082 non-null  object\n",
      " 4   State                                                          25082 non-null  object\n",
      " 5   ZIP Code                                                       25082 non-null  int64 \n",
      " 6   County Name                                                    25037 non-null  object\n",
      " 7   Phone Number                                                   25082 non-null  object\n",
      " 8   Hospital Type                                                  25082 non-null  object\n",
      " 9   Hospital Ownership                                             25082 non-null  object\n",
      " 10  Emergency Services                                             25082 non-null  object\n",
      " 11  Meets criteria for promoting interoperability of EHRs          21316 non-null  object\n",
      " 12  Hospital overall rating                                        25082 non-null  object\n",
      " 13  Hospital overall rating footnote                               7628 non-null   object\n",
      " 14  Mortality national comparison                                  25082 non-null  object\n",
      " 15  Mortality national comparison footnote                         8003 non-null   object\n",
      " 16  Safety of care national comparison                             25082 non-null  object\n",
      " 17  Safety of care national comparison footnote                    11924 non-null  object\n",
      " 18  Readmission national comparison                                25082 non-null  object\n",
      " 19  Readmission national comparison footnote                       6025 non-null   object\n",
      " 20  Patient experience national comparison                         25082 non-null  object\n",
      " 21  Patient experience national comparison footnote                7936 non-null   object\n",
      " 22  Effectiveness of care national comparison                      25082 non-null  object\n",
      " 23  Effectiveness of care national comparison footnote             7037 non-null   object\n",
      " 24  Timeliness of care national comparison                         25082 non-null  object\n",
      " 25  Timeliness of care national comparison footnote                6724 non-null   object\n",
      " 26  Efficient use of medical imaging national comparison           25082 non-null  object\n",
      " 27  Efficient use of medical imaging national comparison footnote  10500 non-null  object\n",
      " 28  Year                                                           25082 non-null  int64 \n",
      "dtypes: int64(2), object(27)\n",
      "memory usage: 5.5+ MB\n"
     ]
    }
   ],
   "source": [
    "## get info of this hospital dataset\n",
    "data.info()"
   ]
  },
  {
   "cell_type": "code",
   "execution_count": 3,
   "id": "1e46e610",
   "metadata": {},
   "outputs": [
    {
     "name": "stdout",
     "output_type": "stream",
     "text": [
      "2019    5344\n",
      "2020    5326\n",
      "2017    4812\n",
      "2016    4807\n",
      "2018    4793\n",
      "Name: Year, dtype: int64\n",
      " \n",
      "Acute Care Hospitals                  16665\n",
      "Critical Access Hospitals              6742\n",
      "Psychiatric                            1154\n",
      "Childrens                               486\n",
      "Acute Care - Department of Defense       35\n",
      "Name: Hospital Type, dtype: int64\n",
      " \n",
      "Voluntary non-profit - Private                 10624\n",
      "Proprietary                                     4503\n",
      "Government - Hospital District or Authority     2743\n",
      "Voluntary non-profit - Other                    2204\n",
      "Government - Local                              2066\n",
      "Voluntary non-profit - Church                   1661\n",
      "Government - State                               617\n",
      "Physician                                        351\n",
      "Government - Federal                             234\n",
      "Tribal                                            44\n",
      "Department of Defense                             35\n",
      "Name: Hospital Ownership, dtype: int64\n"
     ]
    }
   ],
   "source": [
    "print(data['Year'].value_counts())\n",
    "print(' ')\n",
    "print(data['Hospital Type'].value_counts())\n",
    "print(' ')\n",
    "print(data['Hospital Ownership'].value_counts())"
   ]
  },
  {
   "cell_type": "code",
   "execution_count": 19,
   "id": "5d926c7d",
   "metadata": {},
   "outputs": [
    {
     "data": {
      "text/plain": [
       "Yes    22410\n",
       "No      2672\n",
       "Name: Emergency Services, dtype: int64"
      ]
     },
     "execution_count": 19,
     "metadata": {},
     "output_type": "execute_result"
    }
   ],
   "source": [
    "data['Emergency Services'].value_counts()"
   ]
  },
  {
   "cell_type": "code",
   "execution_count": 22,
   "id": "f489cd8d",
   "metadata": {},
   "outputs": [
    {
     "data": {
      "text/plain": [
       "Facility ID                                                          0\n",
       "Facility Name                                                        0\n",
       "Address                                                              0\n",
       "City                                                                 0\n",
       "State                                                                0\n",
       "ZIP Code                                                             0\n",
       "County Name                                                         45\n",
       "Phone Number                                                         0\n",
       "Hospital Type                                                        0\n",
       "Hospital Ownership                                                   0\n",
       "Emergency Services                                                   0\n",
       "Meets criteria for promoting interoperability of EHRs             3766\n",
       "Hospital overall rating                                              0\n",
       "Hospital overall rating footnote                                 17454\n",
       "Mortality national comparison                                        0\n",
       "Mortality national comparison footnote                           17079\n",
       "Safety of care national comparison                                   0\n",
       "Safety of care national comparison footnote                      13158\n",
       "Readmission national comparison                                      0\n",
       "Readmission national comparison footnote                         19057\n",
       "Patient experience national comparison                               0\n",
       "Patient experience national comparison footnote                  17146\n",
       "Effectiveness of care national comparison                            0\n",
       "Effectiveness of care national comparison footnote               18045\n",
       "Timeliness of care national comparison                               0\n",
       "Timeliness of care national comparison footnote                  18358\n",
       "Efficient use of medical imaging national comparison                 0\n",
       "Efficient use of medical imaging national comparison footnote    14582\n",
       "Year                                                                 0\n",
       "dtype: int64"
      ]
     },
     "execution_count": 22,
     "metadata": {},
     "output_type": "execute_result"
    }
   ],
   "source": [
    "## check missing values \n",
    "data.isnull().sum()"
   ]
  },
  {
   "cell_type": "code",
   "execution_count": 4,
   "id": "150c5e60",
   "metadata": {},
   "outputs": [
    {
     "data": {
      "text/plain": [
       "3                7066\n",
       "Not Available    6989\n",
       "4                5251\n",
       "2                3600\n",
       "5                1197\n",
       "1                 979\n",
       "Name: Hospital overall rating, dtype: int64"
      ]
     },
     "execution_count": 4,
     "metadata": {},
     "output_type": "execute_result"
    }
   ],
   "source": [
    "## check hospital overall rating \n",
    "data['Hospital overall rating'].value_counts()\n",
    "\n",
    "## check patient experience national comparison\n",
    "#data['Patient experience national comparison'].value_counts()"
   ]
  },
  {
   "cell_type": "markdown",
   "id": "c034b1ff",
   "metadata": {},
   "source": [
    "A bar plot for hospital overall rating"
   ]
  },
  {
   "cell_type": "code",
   "execution_count": 6,
   "id": "8537b72c",
   "metadata": {},
   "outputs": [
    {
     "data": {
      "text/plain": [
       "<AxesSubplot:xlabel='Hospital overall rating', ylabel='count'>"
      ]
     },
     "execution_count": 6,
     "metadata": {},
     "output_type": "execute_result"
    },
    {
     "data": {
      "image/png": "[encoded data removed]",
      "text/plain": [
       "<Figure size 640x480 with 1 Axes>"
      ]
     },
     "metadata": {},
     "output_type": "display_data"
    }
   ],
   "source": [
    "sns.countplot(x=data[\"Hospital overall rating\"])"
   ]
  },
  {
   "cell_type": "code",
   "execution_count": 4,
   "id": "118d1b3e",
   "metadata": {},
   "outputs": [
    {
     "data": {
      "text/plain": [
       "<AxesSubplot:xlabel='Hospital Type', ylabel='count'>"
      ]
     },
     "execution_count": 4,
     "metadata": {},
     "output_type": "execute_result"
    },
    {
     "data": {
      "image/png": "[encoded data removed]",
      "text/plain": [
       "<Figure size 640x480 with 1 Axes>"
      ]
     },
     "metadata": {},
     "output_type": "display_data"
    }
   ],
   "source": [
    "sns.countplot(x=data[\"Hospital Type\"])\n"
   ]
  },
  {
   "cell_type": "code",
   "execution_count": null,
   "id": "9c195370",
   "metadata": {},
   "outputs": [],
   "source": []
  }
 ],
 "metadata": {
  "kernelspec": {
   "display_name": "Python 3 (ipykernel)",
   "language": "python",
   "name": "python3"
  },
  "language_info": {
   "codemirror_mode": {
    "name": "ipython",
    "version": 3
   },
   "file_extension": ".py",
   "mimetype": "text/x-python",
   "name": "python",
   "nbconvert_exporter": "python",
   "pygments_lexer": "ipython3",
   "version": "3.9.13"
  }
 },
 "nbformat": 4,
 "nbformat_minor": 5
}
